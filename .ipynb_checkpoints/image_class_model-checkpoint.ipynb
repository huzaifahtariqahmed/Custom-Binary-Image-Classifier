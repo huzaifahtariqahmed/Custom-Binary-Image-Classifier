{
 "cells": [
  {
   "cell_type": "code",
   "execution_count": 1,
   "id": "b64b04e8-dbb0-49e7-9035-bd2f942545ff",
   "metadata": {},
   "outputs": [
    {
     "ename": "ModuleNotFoundError",
     "evalue": "No module named 'matplotlib'",
     "output_type": "error",
     "traceback": [
      "\u001b[0;31m---------------------------------------------------------------------------\u001b[0m",
      "\u001b[0;31mModuleNotFoundError\u001b[0m                       Traceback (most recent call last)",
      "Cell \u001b[0;32mIn[1], line 3\u001b[0m\n\u001b[1;32m      1\u001b[0m \u001b[38;5;28;01mimport\u001b[39;00m \u001b[38;5;21;01mnumpy\u001b[39;00m \u001b[38;5;28;01mas\u001b[39;00m \u001b[38;5;21;01mnp\u001b[39;00m\n\u001b[1;32m      2\u001b[0m \u001b[38;5;28;01mimport\u001b[39;00m \u001b[38;5;21;01mcopy\u001b[39;00m\n\u001b[0;32m----> 3\u001b[0m \u001b[38;5;28;01mimport\u001b[39;00m \u001b[38;5;21;01mmatplotlib\u001b[39;00m\u001b[38;5;21;01m.\u001b[39;00m\u001b[38;5;21;01mpyplot\u001b[39;00m \u001b[38;5;28;01mas\u001b[39;00m \u001b[38;5;21;01mplt\u001b[39;00m\n\u001b[1;32m      4\u001b[0m \u001b[38;5;28;01mimport\u001b[39;00m \u001b[38;5;21;01mpickle\u001b[39;00m\n\u001b[1;32m      5\u001b[0m \u001b[38;5;28;01mfrom\u001b[39;00m \u001b[38;5;21;01mPIL\u001b[39;00m \u001b[38;5;28;01mimport\u001b[39;00m Image\n",
      "\u001b[0;31mModuleNotFoundError\u001b[0m: No module named 'matplotlib'"
     ]
    }
   ],
   "source": [
    "import numpy as np\n",
    "import copy\n",
    "import matplotlib.pyplot as plt\n",
    "import pickle\n",
    "from PIL import Image"
   ]
  },
  {
   "cell_type": "code",
   "execution_count": 2,
   "id": "4a8324fc-b045-4064-b7fe-89bf900cb96e",
   "metadata": {},
   "outputs": [],
   "source": [
    "def unpickle(file):\n",
    "    with open(file, 'rb') as fo:\n",
    "        dict = pickle.load(fo, encoding='bytes')\n",
    "    return dict"
   ]
  },
  {
   "cell_type": "code",
   "execution_count": 3,
   "id": "1da80a8f-c316-406e-9910-d2b6c98e4869",
   "metadata": {},
   "outputs": [],
   "source": [
    "def load_batch(file):\n",
    "    batch = unpickle(file)\n",
    "    data = batch[b'data']\n",
    "    labels = batch[b'labels']\n",
    "    return data, labels"
   ]
  },
  {
   "cell_type": "code",
   "execution_count": 4,
   "id": "80778c8e-e2b3-4e9b-9199-99565a21f773",
   "metadata": {},
   "outputs": [],
   "source": [
    "def load_cifar10_dataset(batch_files, test_file):\n",
    "    # Load training data\n",
    "    X_train = []\n",
    "    Y_train = []\n",
    "    for file in batch_files:\n",
    "        data, labels = load_batch(file)\n",
    "        X_train.append(data)\n",
    "        Y_train.extend(labels)\n",
    "    \n",
    "    # Combine all batches into a single numpy array\n",
    "    X_train = np.vstack(X_train)\n",
    "    Y_train = np.array(Y_train)\n",
    "    \n",
    "    # Load test data\n",
    "    X_test, Y_test = load_batch(test_file)\n",
    "\n",
    "    X_test = np.array(X_test)\n",
    "    Y_test = np.array(Y_test)\n",
    "\n",
    "    X_test = X_test.astype(np.uint8)\n",
    "\n",
    "    # Convert Y_train\n",
    "    Y_train = np.where(Y_train == 0, 1, 0)\n",
    "\n",
    "    # Convert Y_test\n",
    "    Y_test = np.where(Y_test == 0, 1, 0)\n",
    "    \n",
    "    return X_train, Y_train, X_test, Y_test"
   ]
  },
  {
   "cell_type": "code",
   "execution_count": 5,
   "id": "64a2af2d-0f9d-46b9-bfef-d8541b703af8",
   "metadata": {},
   "outputs": [
    {
     "name": "stdout",
     "output_type": "stream",
     "text": [
      "train_set_x shape: (50000, 3072)\n",
      "train_set_x shape: (10000, 3072)\n",
      "train_set_x shape: (50000, 32, 32, 3)\n",
      "train_set_x shape: (10000, 32, 32, 3)\n"
     ]
    }
   ],
   "source": [
    "# List of training batch files\n",
    "train_batch_files = ['data_batch_1', 'data_batch_2', 'data_batch_3', 'data_batch_4', 'data_batch_5']\n",
    "\n",
    "# Test batch file\n",
    "test_batch_file = 'test_batch'\n",
    "\n",
    "# Load dataset\n",
    "X_train, Y_train, X_test, Y_test = load_cifar10_dataset(train_batch_files, test_batch_file)\n",
    "\n",
    "print (\"train_set_x shape: \" + str(X_train.shape))\n",
    "\n",
    "print (\"train_set_x shape: \" + str(X_test.shape))\n",
    "\n",
    "# Reshape the data to (number of images, 32, 32, 3)\n",
    "X_train = X_train.reshape(-1, 32, 32, 3, order='F')  # Use 'F' for column-major order\n",
    "X_train = np.transpose(X_train, axes=(0, 2, 1, 3))\n",
    "X_train = X_train[:, :, ::-1, :]\n",
    "X_test = X_test.reshape(-1, 32, 32, 3, order='F')  # Use 'F' for column-major order\n",
    "X_test = np.transpose(X_test, axes=(0, 2, 1, 3))\n",
    "X_test = X_test[:, :, ::-1, :]\n",
    "Y_train = np.array(Y_train).reshape(1, -1)\n",
    "Y_test = np.array(Y_test).reshape(1, -1)\n",
    "\n",
    "print (\"train_set_x shape: \" + str(X_train.shape))\n",
    "\n",
    "print (\"train_set_x shape: \" + str(X_test.shape))"
   ]
  },
  {
   "cell_type": "code",
   "execution_count": 6,
   "id": "3d6ffb92-445d-404f-82a2-d54600e21741",
   "metadata": {},
   "outputs": [
    {
     "data": {
      "image/png": "[encoded data removed]",
      "text/plain": [
       "<Figure size 640x480 with 1 Axes>"
      ]
     },
     "metadata": {},
     "output_type": "display_data"
    }
   ],
   "source": [
    "# Example of a picture\n",
    "index = 2000 # Choose the index of the image you want to display\n",
    "plt.imshow(X_train[index])\n",
    "plt.axis('off')  # Optional: Turn off axis labels\n",
    "plt.show()"
   ]
  },
  {
   "cell_type": "code",
   "execution_count": 7,
   "id": "52736fa9-1500-4cd2-90c0-65cb5dafb130",
   "metadata": {},
   "outputs": [
    {
     "name": "stdout",
     "output_type": "stream",
     "text": [
      "Number of training examples: m_train = 50000\n",
      "Number of testing examples: m_test = 10000\n",
      "Height/Width of each image: num_px = 32\n",
      "Each image is of size: (32, 32, 3)\n",
      "train_set_x shape: (50000, 32, 32, 3)\n",
      "train_set_y shape: (1, 50000)\n",
      "test_set_x shape: (10000, 32, 32, 3)\n",
      "test_set_y shape: (1, 10000)\n"
     ]
    }
   ],
   "source": [
    "# YOUR CODE STARTS HERE\n",
    "m_train = X_train.shape[0]\n",
    "m_test = X_test.shape[0]\n",
    "num_px = X_train.shape[1]\n",
    "# YOUR CODE ENDS HERE\n",
    "\n",
    "print (\"Number of training examples: m_train = \" + str(m_train))\n",
    "print (\"Number of testing examples: m_test = \" + str(m_test))\n",
    "print (\"Height/Width of each image: num_px = \" + str(num_px))\n",
    "print (\"Each image is of size: (\" + str(num_px) + \", \" + str(num_px) + \", 3)\")\n",
    "print (\"train_set_x shape: \" + str(X_train.shape))\n",
    "print (\"train_set_y shape: \" + str(Y_train.shape))\n",
    "print (\"test_set_x shape: \" + str(X_test.shape))\n",
    "print (\"test_set_y shape: \" + str(Y_test.shape))"
   ]
  },
  {
   "cell_type": "code",
   "execution_count": 8,
   "id": "9ef14d56-8615-43e2-8974-3c32d336d844",
   "metadata": {},
   "outputs": [],
   "source": [
    "# Flatten the images (each image is 32x32x3, and needs to be flattened to a 3072-length vector)\n",
    "X_train_flatten = X_train.reshape(X_train.shape[0], -1).T\n",
    "X_test_flatten = X_test.reshape(X_test.shape[0], -1).T"
   ]
  },
  {
   "cell_type": "code",
   "execution_count": 9,
   "id": "034f1d90-ead5-4c45-bd41-905ce41c043c",
   "metadata": {},
   "outputs": [
    {
     "name": "stdout",
     "output_type": "stream",
     "text": [
      "train_set_x_flatten shape: (3072, 50000)\n",
      "train_set_y shape: (1, 50000)\n",
      "test_set_x_flatten shape: (3072, 10000)\n",
      "test_set_y shape: (1, 10000)\n"
     ]
    }
   ],
   "source": [
    "print (\"train_set_x_flatten shape: \" + str(X_train_flatten.shape))\n",
    "print (\"train_set_y shape: \" + str(Y_train.shape))\n",
    "print (\"test_set_x_flatten shape: \" + str(X_test_flatten.shape))\n",
    "print (\"test_set_y shape: \" + str(Y_test.shape))"
   ]
  },
  {
   "cell_type": "code",
   "execution_count": 10,
   "id": "c69faf01-4d8e-4f31-8785-c631819e81eb",
   "metadata": {},
   "outputs": [],
   "source": [
    "train_set_x = X_train_flatten / 255.\n",
    "test_set_x = X_test_flatten / 255."
   ]
  },
  {
   "cell_type": "code",
   "execution_count": 11,
   "id": "05699001-80cd-4c1d-834b-44596928faa2",
   "metadata": {},
   "outputs": [],
   "source": [
    "def sigmoid(z):\n",
    "    \n",
    "    s = 1/(1+np.exp(-z))\n",
    "    \n",
    "    return s"
   ]
  },
  {
   "cell_type": "code",
   "execution_count": 12,
   "id": "1ba3e39b-bd8d-45c5-a3d4-cc23b5a44c9c",
   "metadata": {},
   "outputs": [],
   "source": [
    "def initialize_with_zeros(dim):\n",
    "    \n",
    "    w = np.zeros((dim,1))\n",
    "    b = 0.0\n",
    "\n",
    "    return w, b"
   ]
  },
  {
   "cell_type": "code",
   "execution_count": 13,
   "id": "47224d61-731e-4381-bba3-b69daaeeef79",
   "metadata": {},
   "outputs": [],
   "source": [
    "def propagate(w, b, X, Y):\n",
    "    \n",
    "    m = X.shape[1]\n",
    "    A = sigmoid(np.dot(w.T,X) + b)\n",
    "    cost = (-1/m)*np.sum(np.dot(Y,np.log(A).T) + np.dot((np.subtract(1,Y)),np.log(np.subtract(1,A)).T))\n",
    "    \n",
    "    dw = (1/m)*np.dot(X,np.subtract(A,Y).T)\n",
    "    db = (1/m)*np.sum(np.subtract(A,Y))\n",
    "\n",
    "    cost = np.squeeze(np.array(cost))\n",
    "\n",
    "    grads = {\"dw\": dw,\n",
    "             \"db\": db}\n",
    "    \n",
    "    return grads, cost"
   ]
  },
  {
   "cell_type": "code",
   "execution_count": 14,
   "id": "52de0e7d-32df-4a53-939e-9318f001f13c",
   "metadata": {},
   "outputs": [],
   "source": [
    "def optimize(w, b, X, Y, num_iterations=100, learning_rate=0.009, print_cost=False):\n",
    "    \n",
    "    w = copy.deepcopy(w)\n",
    "    b = copy.deepcopy(b)\n",
    "    \n",
    "    costs = []\n",
    "    \n",
    "    for i in range(num_iterations):\n",
    "        grads, cost = propagate(w, b, X, Y)\n",
    "        \n",
    "        dw = grads[\"dw\"]\n",
    "        db = grads[\"db\"]\n",
    "        \n",
    "        w = w - learning_rate*dw\n",
    "        b = b - learning_rate*db\n",
    "        a\n",
    "        if i % 100 == 0:\n",
    "            costs.append(cost)\n",
    "        \n",
    "            if print_cost:\n",
    "                print (\"Cost after iteration %i: %f\" %(i, cost))\n",
    "    \n",
    "    params = {\"w\": w,\n",
    "              \"b\": b}\n",
    "    \n",
    "    grads = {\"dw\": dw,\n",
    "             \"db\": db}\n",
    "    \n",
    "    return params, grads, costs"
   ]
  },
  {
   "cell_type": "code",
   "execution_count": 15,
   "id": "e47f574f-2e3a-421e-b13f-cca4782122b8",
   "metadata": {},
   "outputs": [],
   "source": [
    "def predict(w, b, X):\n",
    "    \n",
    "    m = X.shape[1]\n",
    "    Y_prediction = np.zeros((1, m))\n",
    "    w = w.reshape(X.shape[0], 1)\n",
    "    \n",
    "    A = sigmoid(np.dot(w.T,X)+b)\n",
    "\n",
    "    for i in range(A.shape[1]):\n",
    "\n",
    "        Y_prediction[0, :] = (A[0, :] > 0.5).astype(int)\n",
    "    \n",
    "    return Y_prediction"
   ]
  },
  {
   "cell_type": "code",
   "execution_count": 16,
   "id": "48535323-e437-4ebe-aec5-987cd18f987d",
   "metadata": {},
   "outputs": [],
   "source": [
    "def model(X_train, Y_train, X_test, Y_test, num_iterations=2000, learning_rate=0.5, print_cost=False):\n",
    "\n",
    "    w, b = initialize_with_zeros(X_train.shape[0])\n",
    "    params, grads, costs = optimize(w, b, X_train, Y_train, num_iterations, learning_rate, print_cost)\n",
    "    w = params[\"w\"]\n",
    "    b = params[\"b\"]\n",
    "    Y_prediction_test = predict(w, b, X_test)\n",
    "    Y_prediction_train = predict(w, b, X_train)\n",
    "    \n",
    "    if print_cost:\n",
    "        print(\"train accuracy: {} %\".format(100 - np.mean(np.abs(Y_prediction_train - Y_train)) * 100))\n",
    "        print(\"test accuracy: {} %\".format(100 - np.mean(np.abs(Y_prediction_test - Y_test)) * 100))\n",
    "\n",
    "    \n",
    "    d = {\"costs\": costs,\n",
    "         \"Y_prediction_test\": Y_prediction_test, \n",
    "         \"Y_prediction_train\" : Y_prediction_train, \n",
    "         \"w\" : w, \n",
    "         \"b\" : b,\n",
    "         \"learning_rate\" : learning_rate,\n",
    "         \"num_iterations\": num_iterations}\n",
    "    \n",
    "    return d"
   ]
  },
  {
   "cell_type": "code",
   "execution_count": null,
   "id": "c3f05764-6533-4b72-8278-95e0d70f919a",
   "metadata": {},
   "outputs": [
    {
     "name": "stdout",
     "output_type": "stream",
     "text": [
      "Cost after iteration 0: 0.693147\n",
      "Cost after iteration 100: 0.302225\n",
      "Cost after iteration 200: 0.294338\n",
      "Cost after iteration 300: 0.291455\n",
      "Cost after iteration 400: 0.289238\n"
     ]
    }
   ],
   "source": [
    "logistic_regression_model = model(train_set_x, Y_train, test_set_x, Y_test, num_iterations=5000, learning_rate=0.03, print_cost=True)"
   ]
  },
  {
   "cell_type": "code",
   "execution_count": 20,
   "id": "ee2b8de6-f24d-4712-8458-dc3403549772",
   "metadata": {},
   "outputs": [
    {
     "name": "stdout",
     "output_type": "stream",
     "text": [
      "y = 1, you predicted that it is a \"0\" picture.\n"
     ]
    },
    {
     "data": {
      "image/png": "[encoded data removed]",
      "text/plain": [
       "<Figure size 640x480 with 1 Axes>"
      ]
     },
     "metadata": {},
     "output_type": "display_data"
    }
   ],
   "source": [
    "index = 27\n",
    "plt.imshow(test_set_x[:, index].reshape((num_px, num_px, 3)))\n",
    "print (\"y = \" + str(Y_test[0,index]) + \", you predicted that it is a \\\"\" + str(int(logistic_regression_model['Y_prediction_test'][0,index])) +  \"\\\" picture.\")"
   ]
  },
  {
   "cell_type": "code",
   "execution_count": null,
   "id": "c45c4a71-9b19-4c9b-91d7-322829373151",
   "metadata": {},
   "outputs": [],
   "source": []
  }
 ],
 "metadata": {
  "kernelspec": {
   "display_name": "Python 3 (ipykernel)",
   "language": "python",
   "name": "python3"
  },
  "language_info": {
   "codemirror_mode": {
    "name": "ipython",
    "version": 3
   },
   "file_extension": ".py",
   "mimetype": "text/x-python",
   "name": "python",
   "nbconvert_exporter": "python",
   "pygments_lexer": "ipython3",
   "version": "3.12.5"
  }
 },
 "nbformat": 4,
 "nbformat_minor": 5
}
